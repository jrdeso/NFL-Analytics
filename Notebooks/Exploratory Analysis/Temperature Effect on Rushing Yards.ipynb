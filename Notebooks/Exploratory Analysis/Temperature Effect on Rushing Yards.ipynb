{
 "cells": [
  {
   "cell_type": "markdown",
   "id": "553c8861-1cb2-43bc-9da2-f85a89c47d9d",
   "metadata": {},
   "source": [
    "# Hypothesis Testing: Temperature Effect on Rushing Yards\n",
    "\n",
    "## Introduction\n",
    "Testing the hypothesis that: **Rushing yardage is higher in colder temperatures compared to warmer temperatures.**\n",
    "\n",
    "### Hypothesis Statement\n",
    "- **Null Hypothesis (H₀)**: [The average rushing yardage in colder temperatures is equal to the average rushing yardage in warmer temperatures.]\n",
    "- **Alternative Hypothesis (H₁)**: [The average rushing yardage in colder temperatures is greater than the average rushing yardage in warmer temperatures.\"]\n",
    "\n",
    "### Purpose\n",
    "The purpose of this analysis is to investigate the impact of temperature on rushing yardage in NFL games, specifically if colder games result in higher average rushing yardage. This relationship can help provide expectations on team performance and gameplans during colder games. \n",
    "\n",
    "### Methodology\n",
    "To test this hypothesis, we will conduct a [type of test, e.g., independent t-test] using historical NFL game data.\n",
    "1. **Data Collection**: Gather NFL game data focusing on team rushing yardage and average temperature from each game. \n",
    "2. **Data Cleaning & Preparation**: Clean data by adressing missing values and inconsistencies. Categorize the average temperture (e.g., very cold, cold, average, warm, very warm, etc.).\n",
    "3. **Exploratory Data Analysis (EDA)**: Perform initial analysis to understand distributions of rushing yardage across temperature categories. Create visualizations (box plots, histograms, etc.) to help visualize comparisons.\n",
    "4. **Hypothesis Testing**: Use an independent t-test to compare average rushing yardage between categorized temperatures. T-test will help determine statistical significance.\n",
    "5. **Result Interpretation**: Based on the p-value from hypothesis test, determine to accept or reject null hypothesis. Low p-value of (0.05) will indicate the observed difference in rushing yards across temperature categories is statistically significant.\n",
    "6. **Conclusion**: Interpret results in the context of an NFL game. What can a fan expect from a team and players performance based on weather predictions for the game. \n"
   ]
  },
  {
   "cell_type": "code",
   "execution_count": null,
   "id": "85df1e65-5853-445b-a815-86410a23eb7f",
   "metadata": {},
   "outputs": [],
   "source": []
  },
  {
   "cell_type": "code",
   "execution_count": null,
   "id": "a4f46d7c-6bcc-40f8-adc2-41740b23c713",
   "metadata": {},
   "outputs": [],
   "source": []
  }
 ],
 "metadata": {
  "kernelspec": {
   "display_name": "Python 3 (ipykernel)",
   "language": "python",
   "name": "python3"
  },
  "language_info": {
   "codemirror_mode": {
    "name": "ipython",
    "version": 3
   },
   "file_extension": ".py",
   "mimetype": "text/x-python",
   "name": "python",
   "nbconvert_exporter": "python",
   "pygments_lexer": "ipython3",
   "version": "3.12.2"
  }
 },
 "nbformat": 4,
 "nbformat_minor": 5
}
